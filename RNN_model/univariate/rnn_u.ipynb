{
  "nbformat": 4,
  "nbformat_minor": 0,
  "metadata": {
    "colab": {
      "name": "Untitled4.ipynb",
      "provenance": [],
      "authorship_tag": "ABX9TyPY4pxWb6lwfsZcoCHI2Jak",
      "include_colab_link": true
    },
    "kernelspec": {
      "name": "python3",
      "display_name": "Python 3"
    },
    "language_info": {
      "name": "python"
    }
  },
  "cells": [
    {
      "cell_type": "markdown",
      "metadata": {
        "id": "view-in-github",
        "colab_type": "text"
      },
      "source": [
        "<a href=\"https://colab.research.google.com/github/salta-ak/Google-trend-forecast-with-LSTM/blob/main/RNN_model/univariate/rnn_u.ipynb\" target=\"_parent\"><img src=\"https://colab.research.google.com/assets/colab-badge.svg\" alt=\"Open In Colab\"/></a>"
      ]
    },
    {
      "cell_type": "code",
      "metadata": {
        "id": "GiP1rQmDw6Je"
      },
      "source": [
        ""
      ],
      "execution_count": null,
      "outputs": []
    },
    {
      "cell_type": "code",
      "metadata": {
        "id": "P6qmEKJ-N5F0",
        "outputId": "e685d2d3-22ce-4a80-c4c9-4474e2eed87d",
        "colab": {
          "base_uri": "https://localhost:8080/"
        }
      },
      "source": [
        "!pip3 install keras-tuner -q\n",
        "!pip3 install pytrends"
      ],
      "execution_count": 1,
      "outputs": [
        {
          "output_type": "stream",
          "text": [
            "\u001b[?25l\r\u001b[K     |███▍                            | 10 kB 22.5 MB/s eta 0:00:01\r\u001b[K     |██████▉                         | 20 kB 27.6 MB/s eta 0:00:01\r\u001b[K     |██████████▏                     | 30 kB 12.7 MB/s eta 0:00:01\r\u001b[K     |█████████████▋                  | 40 kB 9.7 MB/s eta 0:00:01\r\u001b[K     |█████████████████               | 51 kB 5.1 MB/s eta 0:00:01\r\u001b[K     |████████████████████▍           | 61 kB 5.1 MB/s eta 0:00:01\r\u001b[K     |███████████████████████▊        | 71 kB 5.8 MB/s eta 0:00:01\r\u001b[K     |███████████████████████████▏    | 81 kB 6.6 MB/s eta 0:00:01\r\u001b[K     |██████████████████████████████▋ | 92 kB 6.9 MB/s eta 0:00:01\r\u001b[K     |████████████████████████████████| 96 kB 3.0 MB/s \n",
            "\u001b[?25hCollecting pytrends\n",
            "  Downloading pytrends-4.7.3-py3-none-any.whl (14 kB)\n",
            "Requirement already satisfied: lxml in /usr/local/lib/python3.7/dist-packages (from pytrends) (4.2.6)\n",
            "Requirement already satisfied: requests in /usr/local/lib/python3.7/dist-packages (from pytrends) (2.23.0)\n",
            "Requirement already satisfied: pandas>=0.25 in /usr/local/lib/python3.7/dist-packages (from pytrends) (1.1.5)\n",
            "Requirement already satisfied: pytz>=2017.2 in /usr/local/lib/python3.7/dist-packages (from pandas>=0.25->pytrends) (2018.9)\n",
            "Requirement already satisfied: python-dateutil>=2.7.3 in /usr/local/lib/python3.7/dist-packages (from pandas>=0.25->pytrends) (2.8.2)\n",
            "Requirement already satisfied: numpy>=1.15.4 in /usr/local/lib/python3.7/dist-packages (from pandas>=0.25->pytrends) (1.19.5)\n",
            "Requirement already satisfied: six>=1.5 in /usr/local/lib/python3.7/dist-packages (from python-dateutil>=2.7.3->pandas>=0.25->pytrends) (1.15.0)\n",
            "Requirement already satisfied: chardet<4,>=3.0.2 in /usr/local/lib/python3.7/dist-packages (from requests->pytrends) (3.0.4)\n",
            "Requirement already satisfied: idna<3,>=2.5 in /usr/local/lib/python3.7/dist-packages (from requests->pytrends) (2.10)\n",
            "Requirement already satisfied: certifi>=2017.4.17 in /usr/local/lib/python3.7/dist-packages (from requests->pytrends) (2021.5.30)\n",
            "Requirement already satisfied: urllib3!=1.25.0,!=1.25.1,<1.26,>=1.21.1 in /usr/local/lib/python3.7/dist-packages (from requests->pytrends) (1.24.3)\n",
            "Installing collected packages: pytrends\n",
            "Successfully installed pytrends-4.7.3\n"
          ],
          "name": "stdout"
        }
      ]
    },
    {
      "cell_type": "code",
      "metadata": {
        "id": "uaxf8eEaxFiD"
      },
      "source": [
        "import os\n",
        "import pandas as pd\n",
        "import numpy as np\n",
        "from pytrends.request import TrendReq\n",
        "pytrends = TrendReq(hl='en-US', tz=360)\n",
        "\n",
        "# Load data from with pytrend API\n",
        "\n",
        "\n",
        "filename=['bitcoin','covid','stock_price']\n",
        "kw_list = [\"bitcoin\",\"COVID-19\",\"stock price\"]\n",
        "btc_list=[\"bitcoin\",\"cryptocurrency\",\"blockchain+bitcoin\"]\n",
        "st_list=[\"stock+price\",\"stock+index\",\"futures+stock\"]\n",
        "cov_list=[\"Covid\",\"cough+covid\",\"symptoms+covid\"]\n",
        "kw_all=[kw_list,btc_list,st_list,cov_list]\n",
        "for i,j in zip(kw_all,filename):\n",
        "    pytrends.build_payload(i, cat=0, timeframe='today 5-y', geo='', gprop='')\n",
        "    data=pytrends.interest_over_time()\n",
        "    data=data.loc[~(data==0.0).all(axis=1)]\n",
        "    series = data.iloc[: , :-1].astype(float).sort_index()\n",
        "    series.to_csv('{}.csv'.format(j))"
      ],
      "execution_count": 2,
      "outputs": []
    },
    {
      "cell_type": "code",
      "metadata": {
        "id": "M9IR4qkvxTbf"
      },
      "source": [
        "from tensorflow import keras\n",
        "import numpy as np\n",
        "from tensorflow.keras import layers\n",
        "from keras_tuner import RandomSearch\n",
        "from keras_tuner import BayesianOptimization\n",
        "import pandas as pd\n",
        "from sklearn.preprocessing import MinMaxScaler\n",
        "from sklearn.metrics import mean_squared_error\n",
        "from tensorflow.keras.models import Sequential\n",
        "from tensorflow.keras.layers import Dense, Dropout\n",
        "from tensorflow.keras.layers import LSTM\n",
        "from keras.layers import SimpleRNN, GRU\n",
        "from keras.callbacks import CSVLogger\n",
        "import sys\n",
        "import csv\n",
        "import sys\n",
        "\n",
        "df = pd.read_csv('bitcoin.csv', sep=',')\n",
        "df['date'] = pd.to_datetime(df['date'])\n",
        "df.set_index('date', inplace=True) \n",
        "\n",
        "\n",
        "def create_dataset(data_series, look_back, split_frac, transforms):\n",
        "    \n",
        "    # log transforming that data, if necessary\n",
        "    \n",
        "    # differencing data, if necessary\n",
        "    if transforms[0] == True:\n",
        "        dates = data_series.index\n",
        "        data_series = pd.Series(data_series - data_series.shift(1), index=dates).dropna()\n",
        "\n",
        "    # scaling values between 0 and 1\n",
        "    dates = data_series.index\n",
        "    scaler = MinMaxScaler(feature_range=(0, 1))\n",
        "    scaled_data = scaler.fit_transform(data_series.values.reshape(-1, 1))\n",
        "    data_series = pd.Series(scaled_data[:, 0], index=dates)\n",
        "    \n",
        "    # creating targets and features by shifting values by 'i' number of time periods\n",
        "    df = pd.DataFrame()\n",
        "    for i in range(look_back+1):\n",
        "        label = ''.join(['t-', str(i)])\n",
        "        df[label] = data_series.shift(i)\n",
        "    df = df.dropna()\n",
        "    print(df.tail())\n",
        "    \n",
        "    # splitting data into train and test sets\n",
        "    size = int(split_frac*df.shape[0])\n",
        "    train = df[:size]\n",
        "    test = df[size:]\n",
        "    \n",
        "    # creating target and features for training set\n",
        "    X_train = train.iloc[:, 1:].values\n",
        "    y_train = train.iloc[:, 0].values\n",
        "    train_dates = train.index\n",
        "    \n",
        "    # creating target and features for test set\n",
        "    X_test = test.iloc[:, 1:].values\n",
        "    y_test = test.iloc[:, 0].values\n",
        "    test_dates = test.index\n",
        "    \n",
        "    # reshaping data into 3 dimensions for modeling with the LSTM neural net\n",
        "    X_train = np.reshape(X_train, (X_train.shape[0], 1, look_back))\n",
        "    X_test = np.reshape(X_test, (X_test.shape[0], 1, look_back))\n",
        "    \n",
        "    return X_train, y_train, X_test, y_test, train_dates, test_dates, scaler\n",
        "    \n",
        "    \n",
        "    \n",
        "def inverse_transforms(train_predict, y_train, test_predict, y_test, data_series, train_dates, test_dates, scaler, transforms):\n",
        "    \n",
        "    # inverse 0 to 1 scaling\n",
        "    train_predict = pd.Series(scaler.inverse_transform(train_predict.reshape(-1,1))[:,0], index=train_dates)\n",
        "    y_train = pd.Series(scaler.inverse_transform(y_train.reshape(-1, 1))[:,0], index=train_dates)\n",
        "\n",
        "    test_predict = pd.Series(scaler.inverse_transform(test_predict.reshape(-1, 1))[:,0], index=test_dates)\n",
        "    y_test = pd.Series(scaler.inverse_transform(y_test.reshape(-1, 1))[:,0], index=test_dates)\n",
        "    if transforms[0] == True:\n",
        "        train_predict = pd.Series(train_predict + data_series.shift(1), index=train_dates).dropna()\n",
        "        y_train = pd.Series(y_train + data_series.shift(1), index=train_dates).dropna()\n",
        "\n",
        "        test_predict = pd.Series(test_predict + data_series.shift(1), index=test_dates).dropna()\n",
        "        y_test = pd.Series(y_test + data_series.shift(1), index=test_dates).dropna()\n",
        "        \n",
        "    return train_predict, y_train, test_predict, y_test"
      ],
      "execution_count": 3,
      "outputs": []
    },
    {
      "cell_type": "code",
      "metadata": {
        "id": "hlE7PbLbxbIF"
      },
      "source": [
        "sys.stdout = open(\"output.txt\", \"w\")\n",
        "look_back=(12,24)\n",
        "  \n",
        "\n",
        "    \n",
        "\n",
        "  #building LSTM model \n",
        "for column in df: \n",
        "  for window_size in look_back:\n",
        "    for neuron in (4,8,16,32,60):\n",
        "      print(\"\\n -------------------------------- \\n Training Data \\n -------------------------------- \\n \")\n",
        "      X_train, y_train, X_test, y_test, train_dates, test_dates, scaler = create_dataset(df[column], window_size, 0.8, [True])\n",
        "      model = Sequential()\n",
        "      model.add(SimpleRNN(neuron, input_shape=(1, window_size)))\n",
        "      model.add(Dense(1))\n",
        "      print(\"\\n -------------------------------- \\n Model Summary \\n-------------------------------- \\n \")\n",
        "      print(model.summary())\n",
        "\n",
        "      model.compile(loss='mean_squared_error', optimizer='adam')\n",
        "      path_checkpoint = \"model_checkpoint\"+str(column)+str(window_size)+str(neuron)+\".5h\"\n",
        "      es_callback = keras.callbacks.EarlyStopping(monitor=\"val_loss\", min_delta=0, patience=5)\n",
        "      modelckpt_callback = keras.callbacks.ModelCheckpoint( monitor=\"val_loss\",filepath=path_checkpoint,  verbose=1,  save_weights_only=True, save_best_only=True)\n",
        "      es_callback = CSVLogger(str(column)+\"_\"+str(window_size)+\"_\"+str(neuron)+'log.csv', append=True, separator=';')\n",
        "\n",
        "\n",
        "      r=model.fit(X_train, y_train, epochs=100, batch_size=1, verbose=2,callbacks=[es_callback, modelckpt_callback])\n",
        "\n",
        "# making predictions\n",
        "      train_predict = model.predict(X_train)\n",
        "      test_predict = model.predict(X_test)\n",
        "    \n",
        "# inverse transforming results\n",
        "      inverse_transforms(train_predict, y_train, test_predict, y_test, df[column], train_dates, test_dates, scaler,[True])\n",
        "      print(\"\\n -------------------------------- \\n RMSE \\n -------------------------------- \\n\")\n",
        "      error = np.sqrt(mean_squared_error(train_predict, y_train))\n",
        "      print('Train RMSE: %.3f' % error)\n",
        "      error = np.sqrt(mean_squared_error(test_predict, y_test))\n",
        "      print('Train RMSE: %.3f' % error)\n",
        "      print('key_word: ' + str(column))\n",
        "      print('window size: '+ str(window_size))\n",
        "      print('N neurons: ' + str(neuron )) \n",
        "sys.stdout.close()\n",
        "  "
      ],
      "execution_count": null,
      "outputs": []
    },
    {
      "cell_type": "code",
      "metadata": {
        "id": "zCUlZd3JMpPh"
      },
      "source": [
        "!zip -r /content/file.zip /content/*"
      ],
      "execution_count": null,
      "outputs": []
    },
    {
      "cell_type": "code",
      "metadata": {
        "id": "3ygacDjPNZG0"
      },
      "source": [
        "from google.colab import files\n",
        "files.download(\"/content/file.zip\")"
      ],
      "execution_count": null,
      "outputs": []
    }
  ]
}