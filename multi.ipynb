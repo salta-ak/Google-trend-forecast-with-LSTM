{
  "nbformat": 4,
  "nbformat_minor": 0,
  "metadata": {
    "colab": {
      "name": "Untitled4.ipynb",
      "provenance": [],
      "authorship_tag": "ABX9TyNQU3fM2iojPNu5V90UY+ZP",
      "include_colab_link": true
    },
    "kernelspec": {
      "name": "python3",
      "display_name": "Python 3"
    },
    "language_info": {
      "name": "python"
    }
  },
  "cells": [
    {
      "cell_type": "markdown",
      "metadata": {
        "id": "view-in-github",
        "colab_type": "text"
      },
      "source": [
        "<a href=\"https://colab.research.google.com/github/salta-ak/Google-trend-forecast-with-LSTM/blob/main/multi.ipynb\" target=\"_parent\"><img src=\"https://colab.research.google.com/assets/colab-badge.svg\" alt=\"Open In Colab\"/></a>"
      ]
    },
    {
      "cell_type": "code",
      "metadata": {
        "id": "GiP1rQmDw6Je"
      },
      "source": [
        ""
      ],
      "execution_count": null,
      "outputs": []
    },
    {
      "cell_type": "code",
      "metadata": {
        "id": "P6qmEKJ-N5F0",
        "colab": {
          "base_uri": "https://localhost:8080/"
        },
        "outputId": "375f7512-eba4-435e-b670-305572baa419"
      },
      "source": [
        "!pip3 install keras-tuner -q\n",
        "!pip3 install pytrends"
      ],
      "execution_count": null,
      "outputs": [
        {
          "output_type": "stream",
          "text": [
            "\u001b[?25l\r\u001b[K     |███▍                            | 10 kB 23.9 MB/s eta 0:00:01\r\u001b[K     |██████▉                         | 20 kB 10.4 MB/s eta 0:00:01\r\u001b[K     |██████████▏                     | 30 kB 8.3 MB/s eta 0:00:01\r\u001b[K     |█████████████▋                  | 40 kB 7.4 MB/s eta 0:00:01\r\u001b[K     |█████████████████               | 51 kB 4.0 MB/s eta 0:00:01\r\u001b[K     |████████████████████▍           | 61 kB 4.2 MB/s eta 0:00:01\r\u001b[K     |███████████████████████▊        | 71 kB 4.2 MB/s eta 0:00:01\r\u001b[K     |███████████████████████████▏    | 81 kB 4.8 MB/s eta 0:00:01\r\u001b[K     |██████████████████████████████▋ | 92 kB 5.1 MB/s eta 0:00:01\r\u001b[K     |████████████████████████████████| 96 kB 2.9 MB/s \n",
            "\u001b[?25hCollecting pytrends\n",
            "  Downloading pytrends-4.7.3-py3-none-any.whl (14 kB)\n",
            "Requirement already satisfied: pandas>=0.25 in /usr/local/lib/python3.7/dist-packages (from pytrends) (1.1.5)\n",
            "Requirement already satisfied: requests in /usr/local/lib/python3.7/dist-packages (from pytrends) (2.23.0)\n",
            "Requirement already satisfied: lxml in /usr/local/lib/python3.7/dist-packages (from pytrends) (4.2.6)\n",
            "Requirement already satisfied: python-dateutil>=2.7.3 in /usr/local/lib/python3.7/dist-packages (from pandas>=0.25->pytrends) (2.8.2)\n",
            "Requirement already satisfied: pytz>=2017.2 in /usr/local/lib/python3.7/dist-packages (from pandas>=0.25->pytrends) (2018.9)\n",
            "Requirement already satisfied: numpy>=1.15.4 in /usr/local/lib/python3.7/dist-packages (from pandas>=0.25->pytrends) (1.19.5)\n",
            "Requirement already satisfied: six>=1.5 in /usr/local/lib/python3.7/dist-packages (from python-dateutil>=2.7.3->pandas>=0.25->pytrends) (1.15.0)\n",
            "Requirement already satisfied: certifi>=2017.4.17 in /usr/local/lib/python3.7/dist-packages (from requests->pytrends) (2021.5.30)\n",
            "Requirement already satisfied: urllib3!=1.25.0,!=1.25.1,<1.26,>=1.21.1 in /usr/local/lib/python3.7/dist-packages (from requests->pytrends) (1.24.3)\n",
            "Requirement already satisfied: chardet<4,>=3.0.2 in /usr/local/lib/python3.7/dist-packages (from requests->pytrends) (3.0.4)\n",
            "Requirement already satisfied: idna<3,>=2.5 in /usr/local/lib/python3.7/dist-packages (from requests->pytrends) (2.10)\n",
            "Installing collected packages: pytrends\n",
            "Successfully installed pytrends-4.7.3\n"
          ],
          "name": "stdout"
        }
      ]
    },
    {
      "cell_type": "code",
      "metadata": {
        "id": "M9IR4qkvxTbf"
      },
      "source": [
        "from tensorflow import keras\n",
        "import numpy as np\n",
        "from tensorflow.keras import layers\n",
        "from keras_tuner import RandomSearch\n",
        "from keras_tuner import BayesianOptimization\n",
        "import pandas as pd\n",
        "from sklearn.preprocessing import MinMaxScaler\n",
        "from sklearn.metrics import mean_squared_error\n",
        "from tensorflow.keras.models import Sequential\n",
        "from tensorflow.keras.layers import Dense, Dropout\n",
        "from tensorflow.keras.layers import LSTM\n",
        "from keras.layers import SimpleRNN, GRU\n",
        "from keras.callbacks import CSVLogger\n",
        "import sys\n",
        "import csv\n",
        "import os\n",
        "import pandas as pd\n",
        "import numpy as np\n",
        "from matplotlib.backends.backend_pdf import PdfPages\n",
        "from pytrends.request import TrendReq\n",
        "pytrends = TrendReq(hl='en-US', tz=360)\n",
        "import matplotlib.pyplot as plt\n",
        "# Load data from with pytrend API\n",
        "\n"
      ],
      "execution_count": null,
      "outputs": []
    },
    {
      "cell_type": "code",
      "metadata": {
        "id": "ORoGdzwVoXVI"
      },
      "source": [
        "filename=[\"3_kword\",'bitcoin','covid','stock_price']\n",
        "kw_list = [\"bitcoin\",\"COVID-19\",\"stock price\"]\n",
        "btc_list=[\"bitcoin\",\"cryptocurrency\",\"blockchain+bitcoin\"]\n",
        "st_list=[\"stock+price\",\"stock+index\",\"futures+stock\"]\n",
        "cov_list=[\"Covid\",\"cough+covid\",\"symptoms+covid\"]\n",
        "kw_all=[kw_list,btc_list,st_list,cov_list]\n",
        "for i,j in zip(kw_all,filename):\n",
        "    pytrends.build_payload(i, cat=0, timeframe='today 5-y', geo='', gprop='')\n",
        "    data=pytrends.interest_over_time()\n",
        "    data=data.loc[~(data==0.0).all(axis=1)]\n",
        "    series = data.iloc[: , :-1].astype(float).sort_index()\n",
        "    series.to_csv('{}.csv'.format(j))"
      ],
      "execution_count": null,
      "outputs": []
    },
    {
      "cell_type": "code",
      "metadata": {
        "id": "nfuEjPsUjGdw"
      },
      "source": [
        "def to_supervised(data,dropNa = True,lag = 1):\n",
        "    df = pd.DataFrame(data)\n",
        "    column = []\n",
        "    column.append(df)\n",
        "    for i in range(1,lag+1):\n",
        "        column.append(df.shift(-i))\n",
        "    df = pd.concat(column,axis=1)\n",
        "    df.dropna(inplace = True)\n",
        "    features = data.shape[1]\n",
        "    df = df.values\n",
        "    supervised_data = df[:,:features*lag]\n",
        "    supervised_data = np.column_stack( [supervised_data, df[:,features*lag]])\n",
        "    return supervised_data"
      ],
      "execution_count": null,
      "outputs": []
    },
    {
      "cell_type": "code",
      "metadata": {
        "colab": {
          "base_uri": "https://localhost:8080/"
        },
        "id": "hpAMDmskkdSy",
        "outputId": "89c834fe-c152-4256-d896-09561b594ccc"
      },
      "source": [
        "#sys.stdout = open(\"output.txt\", \"w\")\n",
        "look_back=(12,24)\n",
        "\n",
        "\n",
        "\n",
        "  #building LSTM model \n",
        "for i in filename:\n",
        "  df = pd.read_csv(str(i)+'.csv', sep=',')\n",
        "  df['date'] = pd.to_datetime(df['date'])\n",
        "  df.set_index('date', inplace=True)\n",
        "  appended_df = []\n",
        "  \n",
        "  for window_size in look_back:\n",
        "    for neuron in (4,8,16,32,60):\n",
        "      values = df.values\n",
        "      scaler = MinMaxScaler()\n",
        "      scaled = scaler.fit_transform(values)\n",
        "      supervised = to_supervised(scaled,lag=window_size)\n",
        "      features = df.shape[1]\n",
        "      train_len = df.shape[0]*0.8\n",
        "      train_len = int(df.shape[0]*0.8)\n",
        "      X = supervised[:,:supervised.shape[1]-1]\n",
        "      y = supervised[:,supervised.shape[1]-1:]\n",
        "\n",
        "      x_train = X[:train_len,:]\n",
        "      x_test = X[train_len:,:]\n",
        "      y_train = y[:train_len]\n",
        "      y_test = y[train_len:]\n",
        "      x_train = x_train.reshape(x_train.shape[0], 1, window_size*features)\n",
        "      x_test = x_test.reshape(x_test.shape[0], 1, window_size*features) \n",
        "      \n",
        "\n",
        "      model = Sequential()\n",
        "      model.add(SimpleRNN(neuron, input_shape=(1, window_size*features)))\n",
        "      model.add(Dense(1))\n",
        "      print(model.summary())\n",
        "\n",
        "\n",
        "      model.compile(loss='mean_squared_error', optimizer='adam')\n",
        "      path_checkpoint = \"model_checkpoint\"+str(i)+str(window_size)+str(neuron)+\".5h\"\n",
        "      es_callback = keras.callbacks.EarlyStopping(monitor=\"val_loss\", min_delta=0, patience=5)\n",
        "      modelckpt_callback = keras.callbacks.ModelCheckpoint( monitor=\"val_loss\",filepath=path_checkpoint,  verbose=0,  save_weights_only=True, save_best_only=True)\n",
        "      es_callback = CSVLogger(str(i)+\"_\"+str(window_size)+\"_\"+str(neuron)+'log.csv', append=True, separator=';')\n",
        "  \n",
        "      history =  model.fit( x_train,y_train, validation_data = (x_test,y_test), epochs = 100 , batch_size = 1, verbose = 2, callbacks=[es_callback, modelckpt_callback,])\n",
        "\n",
        "      #scale back the prediction to orginal scale\n",
        "      y_pred = model.predict(x_test)\n",
        "      x_test = x_test.reshape(x_test.shape[0],x_test.shape[2]*x_test.shape[1])\n",
        "\n",
        "      inv_new = np.concatenate( (y_pred, x_test[:,-2:] ) , axis =1)\n",
        "      inv_new = scaler.inverse_transform(inv_new)\n",
        "      final_pred = inv_new[:,0]\n",
        "\n",
        "      y_test = y_test.reshape( len(y_test), 1)\n",
        "      inv_new = np.concatenate( (y_test, x_test[:,-2:] ) ,axis = 1)\n",
        "      inv_new = scaler.inverse_transform(inv_new)\n",
        "      actual_pred = inv_new[:,0]    \n",
        "      error = np.sqrt(mean_squared_error(final_pred, actual_pred))\n",
        "      print('Test RMSE: %.3f' % error)    \n",
        "      print('kword: '+ str(i))      \n",
        "      print('window size: '+ str(window_size))\n",
        "      print('neuron: '+ str(neuron))\n",
        "    \n",
        "sys.stdout.close()  "
      ],
      "execution_count": null,
      "outputs": [
        {
          "output_type": "stream",
          "text": [
            "WARNING:tensorflow:5 out of the last 9 calls to <function Model.make_predict_function.<locals>.predict_function at 0x7fe012d107a0> triggered tf.function retracing. Tracing is expensive and the excessive number of tracings could be due to (1) creating @tf.function repeatedly in a loop, (2) passing tensors with different shapes, (3) passing Python objects instead of tensors. For (1), please define your @tf.function outside of the loop. For (2), @tf.function has experimental_relax_shapes=True option that relaxes argument shapes that can avoid unnecessary retracing. For (3), please refer to https://www.tensorflow.org/guide/function#controlling_retracing and https://www.tensorflow.org/api_docs/python/tf/function for  more details.\n",
            "WARNING:tensorflow:6 out of the last 11 calls to <function Model.make_predict_function.<locals>.predict_function at 0x7fe012f27200> triggered tf.function retracing. Tracing is expensive and the excessive number of tracings could be due to (1) creating @tf.function repeatedly in a loop, (2) passing tensors with different shapes, (3) passing Python objects instead of tensors. For (1), please define your @tf.function outside of the loop. For (2), @tf.function has experimental_relax_shapes=True option that relaxes argument shapes that can avoid unnecessary retracing. For (3), please refer to https://www.tensorflow.org/guide/function#controlling_retracing and https://www.tensorflow.org/api_docs/python/tf/function for  more details.\n"
          ],
          "name": "stdout"
        }
      ]
    },
    {
      "cell_type": "code",
      "metadata": {
        "colab": {
          "base_uri": "https://localhost:8080/"
        },
        "id": "_tqV23xtr2Ux",
        "outputId": "cb9f9403-6eb8-4556-94cd-1d75d29489b7"
      },
      "source": [
        "!zip -r /content/file.zip /content/*"
      ],
      "execution_count": null,
      "outputs": [
        {
          "output_type": "stream",
          "text": [
            "updating: content/3_kword_12_16log.csv (deflated 53%)\n",
            "updating: content/3_kword_12_32log.csv (deflated 53%)\n",
            "updating: content/3_kword_12_4log.csv (deflated 53%)\n",
            "updating: content/3_kword_12_60log.csv (deflated 53%)\n",
            "updating: content/3_kword_12_8log.csv (deflated 53%)\n",
            "updating: content/3_kword_24_16log.csv (deflated 53%)\n",
            "updating: content/3_kword_24_32log.csv (deflated 53%)\n",
            "updating: content/3_kword_24_4log.csv (deflated 53%)\n",
            "updating: content/3_kword_24_60log.csv (deflated 53%)\n",
            "updating: content/3_kword_24_8log.csv (deflated 53%)\n",
            "updating: content/3_kword.csv (deflated 78%)\n",
            "updating: content/bitcoin_12_16log.csv (deflated 53%)\n",
            "updating: content/bitcoin_12_32log.csv (deflated 53%)\n",
            "updating: content/bitcoin_12_4log.csv (deflated 54%)\n",
            "updating: content/bitcoin_12_60log.csv (deflated 53%)\n",
            "updating: content/bitcoin_12_8log.csv (deflated 53%)\n",
            "updating: content/bitcoin_24_16log.csv (deflated 53%)\n",
            "updating: content/bitcoin_24_32log.csv (deflated 53%)\n",
            "updating: content/bitcoin_24_4log.csv (deflated 54%)\n",
            "updating: content/bitcoin_24_60log.csv (deflated 53%)\n",
            "updating: content/bitcoin_24_8log.csv (deflated 53%)\n",
            "updating: content/bitcoin.csv (deflated 78%)\n",
            "updating: content/checkpoint (deflated 52%)\n",
            "updating: content/covid_12_16log.csv (deflated 53%)\n",
            "updating: content/covid_12_32log.csv (deflated 53%)\n",
            "updating: content/covid_12_4log.csv (deflated 53%)\n",
            "updating: content/covid_12_60log.csv (deflated 53%)\n",
            "updating: content/covid_12_8log.csv (deflated 53%)\n",
            "updating: content/covid_24_16log.csv (deflated 53%)\n",
            "updating: content/covid_24_32log.csv (deflated 53%)\n",
            "updating: content/covid_24_4log.csv (deflated 53%)\n",
            "updating: content/covid_24_60log.csv (deflated 53%)\n",
            "updating: content/covid_24_8log.csv (deflated 53%)\n",
            "updating: content/covid.csv (deflated 78%)\n",
            "updating: content/model_checkpoint3_kword1216.5h.data-00000-of-00001 (deflated 34%)\n",
            "updating: content/model_checkpoint3_kword1216.5h.index (deflated 61%)\n",
            "updating: content/model_checkpoint3_kword1232.5h.data-00000-of-00001 (deflated 37%)\n",
            "updating: content/model_checkpoint3_kword1232.5h.index (deflated 61%)\n",
            "updating: content/model_checkpoint3_kword124.5h.data-00000-of-00001 (deflated 47%)\n",
            "updating: content/model_checkpoint3_kword124.5h.index (deflated 61%)\n",
            "updating: content/model_checkpoint3_kword1260.5h.data-00000-of-00001 (deflated 45%)\n",
            "updating: content/model_checkpoint3_kword1260.5h.index (deflated 61%)\n",
            "updating: content/model_checkpoint3_kword128.5h.data-00000-of-00001 (deflated 37%)\n",
            "updating: content/model_checkpoint3_kword128.5h.index (deflated 61%)\n",
            "updating: content/model_checkpoint3_kword2416.5h.data-00000-of-00001 (deflated 23%)\n",
            "updating: content/model_checkpoint3_kword2416.5h.index (deflated 61%)\n",
            "updating: content/model_checkpoint3_kword2432.5h.data-00000-of-00001 (deflated 26%)\n",
            "updating: content/model_checkpoint3_kword2432.5h.index (deflated 61%)\n",
            "updating: content/model_checkpoint3_kword244.5h.data-00000-of-00001 (deflated 36%)\n",
            "updating: content/model_checkpoint3_kword244.5h.index (deflated 61%)\n",
            "updating: content/model_checkpoint3_kword2460.5h.data-00000-of-00001 (deflated 35%)\n",
            "updating: content/model_checkpoint3_kword2460.5h.index (deflated 60%)\n",
            "updating: content/model_checkpoint3_kword248.5h.data-00000-of-00001 (deflated 27%)\n",
            "updating: content/model_checkpoint3_kword248.5h.index (deflated 61%)\n",
            "updating: content/model_checkpointbitcoin1216.5h.data-00000-of-00001 (deflated 33%)\n",
            "updating: content/model_checkpointbitcoin1216.5h.index (deflated 61%)\n",
            "updating: content/model_checkpointbitcoin1232.5h.data-00000-of-00001 (deflated 37%)\n",
            "updating: content/model_checkpointbitcoin1232.5h.index (deflated 61%)\n",
            "updating: content/model_checkpointbitcoin124.5h.data-00000-of-00001 (deflated 47%)\n",
            "updating: content/model_checkpointbitcoin124.5h.index (deflated 61%)\n",
            "updating: content/model_checkpointbitcoin1260.5h.data-00000-of-00001 (deflated 45%)\n",
            "updating: content/model_checkpointbitcoin1260.5h.index (deflated 61%)\n",
            "updating: content/model_checkpointbitcoin128.5h.data-00000-of-00001 (deflated 38%)\n",
            "updating: content/model_checkpointbitcoin128.5h.index (deflated 61%)\n",
            "updating: content/model_checkpointbitcoin2416.5h.data-00000-of-00001 (deflated 24%)\n",
            "updating: content/model_checkpointbitcoin2416.5h.index (deflated 61%)\n",
            "updating: content/model_checkpointbitcoin2432.5h.data-00000-of-00001 (deflated 26%)\n",
            "updating: content/model_checkpointbitcoin2432.5h.index (deflated 61%)\n",
            "updating: content/model_checkpointbitcoin244.5h.data-00000-of-00001 (deflated 36%)\n",
            "updating: content/model_checkpointbitcoin244.5h.index (deflated 61%)\n",
            "updating: content/model_checkpointbitcoin2460.5h.data-00000-of-00001 (deflated 35%)\n",
            "updating: content/model_checkpointbitcoin2460.5h.index (deflated 60%)\n",
            "updating: content/model_checkpointbitcoin248.5h.data-00000-of-00001 (deflated 26%)\n",
            "updating: content/model_checkpointbitcoin248.5h.index (deflated 61%)\n",
            "updating: content/model_checkpointcovid1216.5h.data-00000-of-00001 (deflated 34%)\n",
            "updating: content/model_checkpointcovid1216.5h.index (deflated 61%)\n",
            "updating: content/model_checkpointcovid1232.5h.data-00000-of-00001 (deflated 37%)\n",
            "updating: content/model_checkpointcovid1232.5h.index (deflated 61%)\n",
            "updating: content/model_checkpointcovid124.5h.data-00000-of-00001 (deflated 47%)\n",
            "updating: content/model_checkpointcovid124.5h.index (deflated 61%)\n",
            "updating: content/model_checkpointcovid1260.5h.data-00000-of-00001 (deflated 45%)\n",
            "updating: content/model_checkpointcovid1260.5h.index (deflated 61%)\n",
            "updating: content/model_checkpointcovid128.5h.data-00000-of-00001 (deflated 38%)\n",
            "updating: content/model_checkpointcovid128.5h.index (deflated 61%)\n",
            "updating: content/model_checkpointcovid2416.5h.data-00000-of-00001 (deflated 24%)\n",
            "updating: content/model_checkpointcovid2416.5h.index (deflated 61%)\n",
            "updating: content/model_checkpointcovid2432.5h.data-00000-of-00001 (deflated 27%)\n",
            "updating: content/model_checkpointcovid2432.5h.index (deflated 61%)\n",
            "updating: content/model_checkpointcovid244.5h.data-00000-of-00001 (deflated 36%)\n",
            "updating: content/model_checkpointcovid244.5h.index (deflated 61%)\n",
            "updating: content/model_checkpointcovid2460.5h.data-00000-of-00001 (deflated 35%)\n",
            "updating: content/model_checkpointcovid2460.5h.index (deflated 60%)\n",
            "updating: content/model_checkpointcovid248.5h.data-00000-of-00001 (deflated 27%)\n",
            "updating: content/model_checkpointcovid248.5h.index (deflated 61%)\n",
            "updating: content/model_checkpointstock_price1216.5h.data-00000-of-00001 (deflated 34%)\n",
            "updating: content/model_checkpointstock_price1216.5h.index (deflated 61%)\n",
            "updating: content/model_checkpointstock_price1232.5h.data-00000-of-00001 (deflated 37%)\n",
            "updating: content/model_checkpointstock_price1232.5h.index (deflated 61%)\n",
            "updating: content/model_checkpointstock_price124.5h.data-00000-of-00001 (deflated 47%)\n",
            "updating: content/model_checkpointstock_price124.5h.index (deflated 61%)\n",
            "updating: content/model_checkpointstock_price1260.5h.data-00000-of-00001 (deflated 45%)\n",
            "updating: content/model_checkpointstock_price1260.5h.index (deflated 61%)\n",
            "updating: content/model_checkpointstock_price128.5h.data-00000-of-00001 (deflated 38%)\n",
            "updating: content/model_checkpointstock_price128.5h.index (deflated 61%)\n",
            "updating: content/model_checkpointstock_price2416.5h.data-00000-of-00001 (deflated 23%)\n",
            "updating: content/model_checkpointstock_price2416.5h.index (deflated 61%)\n",
            "updating: content/model_checkpointstock_price2432.5h.data-00000-of-00001 (deflated 26%)\n",
            "updating: content/model_checkpointstock_price2432.5h.index (deflated 61%)\n",
            "updating: content/model_checkpointstock_price244.5h.data-00000-of-00001 (deflated 36%)\n",
            "updating: content/model_checkpointstock_price244.5h.index (deflated 61%)\n",
            "updating: content/model_checkpointstock_price2460.5h.data-00000-of-00001 (deflated 35%)\n",
            "updating: content/model_checkpointstock_price2460.5h.index (deflated 60%)\n",
            "updating: content/model_checkpointstock_price248.5h.data-00000-of-00001 (deflated 27%)\n",
            "updating: content/model_checkpointstock_price248.5h.index (deflated 61%)\n",
            "updating: content/output.txt (deflated 90%)\n",
            "updating: content/sample_data/ (stored 0%)\n",
            "updating: content/sample_data/anscombe.json (deflated 83%)\n",
            "updating: content/sample_data/README.md (deflated 42%)\n",
            "updating: content/sample_data/california_housing_test.csv (deflated 76%)\n",
            "updating: content/sample_data/california_housing_train.csv (deflated 79%)\n",
            "updating: content/sample_data/mnist_train_small.csv (deflated 88%)\n",
            "updating: content/sample_data/mnist_test.csv (deflated 88%)\n",
            "updating: content/stock_price_12_16log.csv (deflated 53%)\n",
            "updating: content/stock_price_12_32log.csv (deflated 53%)\n",
            "updating: content/stock_price_12_4log.csv (deflated 53%)\n",
            "updating: content/stock_price_12_60log.csv (deflated 52%)\n",
            "updating: content/stock_price_12_8log.csv (deflated 53%)\n",
            "updating: content/stock_price_24_16log.csv (deflated 53%)\n",
            "updating: content/stock_price_24_32log.csv (deflated 53%)\n",
            "updating: content/stock_price_24_4log.csv (deflated 53%)\n",
            "updating: content/stock_price_24_60log.csv (deflated 53%)\n",
            "updating: content/stock_price_24_8log.csv (deflated 53%)\n",
            "updating: content/stock_price.csv (deflated 80%)\n"
          ],
          "name": "stdout"
        }
      ]
    },
    {
      "cell_type": "code",
      "metadata": {
        "colab": {
          "base_uri": "https://localhost:8080/",
          "height": 33
        },
        "id": "9wjQwjwir_49",
        "outputId": "46bbadd1-4690-42b3-de7e-56d47bb3e202"
      },
      "source": [
        "from google.colab import files\n",
        "files.download(\"/content/file.zip\")"
      ],
      "execution_count": null,
      "outputs": [
        {
          "output_type": "display_data",
          "data": {
            "application/javascript": [
              "\n",
              "    async function download(id, filename, size) {\n",
              "      if (!google.colab.kernel.accessAllowed) {\n",
              "        return;\n",
              "      }\n",
              "      const div = document.createElement('div');\n",
              "      const label = document.createElement('label');\n",
              "      label.textContent = `Downloading \"${filename}\": `;\n",
              "      div.appendChild(label);\n",
              "      const progress = document.createElement('progress');\n",
              "      progress.max = size;\n",
              "      div.appendChild(progress);\n",
              "      document.body.appendChild(div);\n",
              "\n",
              "      const buffers = [];\n",
              "      let downloaded = 0;\n",
              "\n",
              "      const channel = await google.colab.kernel.comms.open(id);\n",
              "      // Send a message to notify the kernel that we're ready.\n",
              "      channel.send({})\n",
              "\n",
              "      for await (const message of channel.messages) {\n",
              "        // Send a message to notify the kernel that we're ready.\n",
              "        channel.send({})\n",
              "        if (message.buffers) {\n",
              "          for (const buffer of message.buffers) {\n",
              "            buffers.push(buffer);\n",
              "            downloaded += buffer.byteLength;\n",
              "            progress.value = downloaded;\n",
              "          }\n",
              "        }\n",
              "      }\n",
              "      const blob = new Blob(buffers, {type: 'application/binary'});\n",
              "      const a = document.createElement('a');\n",
              "      a.href = window.URL.createObjectURL(blob);\n",
              "      a.download = filename;\n",
              "      div.appendChild(a);\n",
              "      a.click();\n",
              "      div.remove();\n",
              "    }\n",
              "  "
            ],
            "text/plain": [
              "<IPython.core.display.Javascript object>"
            ]
          },
          "metadata": {
            "tags": []
          }
        },
        {
          "output_type": "display_data",
          "data": {
            "application/javascript": [
              "download(\"download_e9f0f7b7-18f5-4fee-9edf-337ac7a66fe2\", \"file.zip\", 8029553)"
            ],
            "text/plain": [
              "<IPython.core.display.Javascript object>"
            ]
          },
          "metadata": {
            "tags": []
          }
        }
      ]
    }
  ]
}